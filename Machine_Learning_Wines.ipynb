{
  "nbformat": 4,
  "nbformat_minor": 0,
  "metadata": {
    "colab": {
      "name": "Machine Learning - Wines.ipynb",
      "provenance": [],
      "collapsed_sections": []
    },
    "kernelspec": {
      "name": "python3",
      "display_name": "Python 3"
    }
  },
  "cells": [
    {
      "cell_type": "markdown",
      "metadata": {
        "id": "Vwh8lX-cNjw3"
      },
      "source": [
        "**IMPORTS**"
      ]
    },
    {
      "cell_type": "code",
      "metadata": {
        "id": "l4e6AJ0DXU3E"
      },
      "source": [
        "import numpy as np\n",
        "\n",
        "from sklearn import datasets\n",
        "from sklearn.decomposition import PCA\n",
        "from sklearn.model_selection import GridSearchCV\n",
        "from sklearn.pipeline import Pipeline\n",
        "from sklearn.neighbors import KNeighborsClassifier\n",
        "from sklearn.preprocessing import StandardScaler\n",
        "from sklearn.model_selection import train_test_split\n",
        "from sklearn.metrics import accuracy_score\n",
        "import seaborn as sns\n"
      ],
      "execution_count": 20,
      "outputs": []
    },
    {
      "cell_type": "markdown",
      "source": [
        "# Descrição:\n",
        "Wines é um dataset disponibilizado pela biblioteca seaborn com 3 classes de vinhos e 13 features. \n",
        "\n",
        "# Objetivo:\n",
        "O desafio é criar um modelo de Machine Learning capaz de interpretar as características do vinho e indicar a qual classe o vinho pertence.\n",
        "\n",
        "#Etapas\n",
        "Estratificação dos dados em treinamento, validação e testes;\n",
        "Criação de um pipeline: Normalização dados, redução de dimensionalidade (PCA) e seleção de um modelo (KNN);\n",
        "Seleção de hiperparâmetros;\n",
        "Avaliação de acurácia, UnderFitting e OverFitting;\n",
        "Calculo do intervalo de confiança\n",
        "\n",
        "\n",
        "\n",
        "# Documentação Dataset:\n",
        "\n",
        "https://www.kaggle.com/c/wine-m/data"
      ],
      "metadata": {
        "id": "acdDB_lAZSwp"
      }
    },
    {
      "cell_type": "markdown",
      "metadata": {
        "id": "4DG9RH_YNcur"
      },
      "source": [
        "**LOADING DATA**"
      ]
    },
    {
      "cell_type": "code",
      "metadata": {
        "colab": {
          "base_uri": "https://localhost:8080/"
        },
        "id": "TxAxXnujYG0G",
        "outputId": "c18277e4-31bb-4652-b116-a2092ed7e2d6"
      },
      "source": [
        "wines = datasets.load_wine()\n",
        "X = wines.data\n",
        "y = wines.target\n",
        "\n",
        "##Quantas caracteristicas existem ?\n",
        "X.shape"
      ],
      "execution_count": 21,
      "outputs": [
        {
          "output_type": "execute_result",
          "data": {
            "text/plain": [
              "(178, 13)"
            ]
          },
          "metadata": {},
          "execution_count": 21
        }
      ]
    },
    {
      "cell_type": "markdown",
      "metadata": {
        "id": "mtU2WcafN4MU"
      },
      "source": [
        "**DATA PREPARATION**"
      ]
    },
    {
      "cell_type": "code",
      "source": [
        "type(wines)"
      ],
      "metadata": {
        "colab": {
          "base_uri": "https://localhost:8080/"
        },
        "id": "0WaZjtUNYFxw",
        "outputId": "684a0b33-cfc1-494d-bfcc-3d9353098386"
      },
      "execution_count": 26,
      "outputs": [
        {
          "output_type": "execute_result",
          "data": {
            "text/plain": [
              "sklearn.utils.Bunch"
            ]
          },
          "metadata": {},
          "execution_count": 26
        }
      ]
    },
    {
      "cell_type": "markdown",
      "metadata": {
        "id": "IWsekgEnkI4K"
      },
      "source": [
        "Como ha 13 caracteristicas seria interessante reduzir a dimensionalidade, vamos optar pelo modelo de PCA para reduzir a dimensionalidade e como classificador utilizaremos o KNN uma vez que todas as caracteristicas são numéricas"
      ]
    },
    {
      "cell_type": "code",
      "metadata": {
        "id": "bQ1WxrjrYJ0e"
      },
      "source": [
        "###Split dos dados em treinamento, validacao e teste\n",
        "### Adicionamos um random_state = 1 para garantir a reprodutibilidade da estratificação dos dados, ou seja, sempre estratificar da mesma forma toda vez que o código \n",
        "## for executado\n",
        "\n",
        "X_train_valid, X_test, y_train_valid, y_test = train_test_split(X, y, test_size=0.3, random_state=1, stratify=y) ### \n",
        "X_train, X_valid, y_train, y_valid = train_test_split(X_train_valid, y_train_valid, test_size=0.5, random_state=1) ### "
      ],
      "execution_count": 3,
      "outputs": []
    },
    {
      "cell_type": "code",
      "metadata": {
        "id": "fnc-DUPaYKml"
      },
      "source": [
        "pipe = Pipeline([\n",
        "        ('z-score', StandardScaler()),\n",
        "        ('reduce_dim', PCA(n_components=3)),\n",
        "        ('classify', KNeighborsClassifier(n_neighbors=1))])"
      ],
      "execution_count": 4,
      "outputs": []
    },
    {
      "cell_type": "markdown",
      "metadata": {
        "id": "Pccsn31hNJLC"
      },
      "source": [
        "**MODEL TRAINING**"
      ]
    },
    {
      "cell_type": "code",
      "metadata": {
        "colab": {
          "base_uri": "https://localhost:8080/"
        },
        "id": "0OeaTmgJYsRM",
        "outputId": "5b1952d0-8a17-4284-df26-330706fb7935"
      },
      "source": [
        "\n",
        "pipe.fit(X_train, y_train)"
      ],
      "execution_count": 5,
      "outputs": [
        {
          "output_type": "execute_result",
          "data": {
            "text/plain": [
              "Pipeline(steps=[('z-score', StandardScaler()),\n",
              "                ('reduce_dim', PCA(n_components=3)),\n",
              "                ('classify', KNeighborsClassifier(n_neighbors=1))])"
            ]
          },
          "metadata": {},
          "execution_count": 5
        }
      ]
    },
    {
      "cell_type": "code",
      "metadata": {
        "colab": {
          "base_uri": "https://localhost:8080/"
        },
        "id": "q5kk7jHhWmMI",
        "outputId": "f2c4add6-cb7d-4fe9-ebba-1e2206db8a90"
      },
      "source": [
        "pip install hypopt"
      ],
      "execution_count": 6,
      "outputs": [
        {
          "output_type": "stream",
          "name": "stdout",
          "text": [
            "Collecting hypopt\n",
            "  Downloading hypopt-1.0.9-py2.py3-none-any.whl (13 kB)\n",
            "Requirement already satisfied: scikit-learn>=0.18 in /usr/local/lib/python3.7/dist-packages (from hypopt) (1.0.2)\n",
            "Requirement already satisfied: numpy>=1.11.3 in /usr/local/lib/python3.7/dist-packages (from hypopt) (1.21.5)\n",
            "Requirement already satisfied: scipy>=1.1.0 in /usr/local/lib/python3.7/dist-packages (from scikit-learn>=0.18->hypopt) (1.4.1)\n",
            "Requirement already satisfied: threadpoolctl>=2.0.0 in /usr/local/lib/python3.7/dist-packages (from scikit-learn>=0.18->hypopt) (3.1.0)\n",
            "Requirement already satisfied: joblib>=0.11 in /usr/local/lib/python3.7/dist-packages (from scikit-learn>=0.18->hypopt) (1.1.0)\n",
            "Installing collected packages: hypopt\n",
            "Successfully installed hypopt-1.0.9\n"
          ]
        }
      ]
    },
    {
      "cell_type": "markdown",
      "metadata": {
        "id": "sYLy3n21OHUg"
      },
      "source": [
        "**SELEÇÃO DE HIPERPARÂMETROS**"
      ]
    },
    {
      "cell_type": "code",
      "metadata": {
        "id": "Rv0sFeDPWHkP"
      },
      "source": [
        "## Procura pelos melhores hyperparametros\n",
        "\n",
        "from hypopt import GridSearch\n",
        "\n",
        "\n",
        "## Variar os hiperparametros de 1 a 13 para a reducao de dimensionalidade no PC e de 2 a 5 vizinhos mais proximos do KNN\n",
        "param_grid = {\n",
        "    'reduce_dim__n_components': [1, 2, 3, 4,5,6,7,8,9,10,11,12,13],\n",
        "    'classify__n_neighbors': [2, 3, 4, 5]\n",
        "}\n",
        "\n",
        "grid = GridSearch(pipe, param_grid=param_grid)"
      ],
      "execution_count": 7,
      "outputs": []
    },
    {
      "cell_type": "code",
      "metadata": {
        "colab": {
          "base_uri": "https://localhost:8080/"
        },
        "id": "6pHOqZxLYWVN",
        "outputId": "e1547492-fe1e-4e3b-ab84-df591cd4ddcb"
      },
      "source": [
        "## Procura os hyperparametros utilizando os dados de treino e validando-os com os dados de validacao\n",
        "grid.fit(X_train, y_train, X_valid, y_valid)"
      ],
      "execution_count": 8,
      "outputs": [
        {
          "output_type": "stream",
          "name": "stderr",
          "text": [
            "100%|██████████| 52/52 [00:00<00:00, 105.89it/s]\n"
          ]
        },
        {
          "output_type": "execute_result",
          "data": {
            "text/plain": [
              "Pipeline(steps=[('z-score', StandardScaler()),\n",
              "                ('reduce_dim', PCA(n_components=4)),\n",
              "                ('classify', KNeighborsClassifier(n_neighbors=3))])"
            ]
          },
          "metadata": {},
          "execution_count": 8
        }
      ]
    },
    {
      "cell_type": "code",
      "metadata": {
        "colab": {
          "base_uri": "https://localhost:8080/"
        },
        "id": "I4mlGaN7aI-y",
        "outputId": "3363fcbf-dbc3-4cf0-8de0-942a6644ba9c"
      },
      "source": [
        "## Melhores Hyperparametros do modelo PCA-KNN\n",
        "print(grid.best_params)"
      ],
      "execution_count": 9,
      "outputs": [
        {
          "output_type": "stream",
          "name": "stdout",
          "text": [
            "{'classify__n_neighbors': 3, 'reduce_dim__n_components': 4}\n"
          ]
        }
      ]
    },
    {
      "cell_type": "markdown",
      "metadata": {
        "id": "VoraIoYZOhpQ"
      },
      "source": [
        "Conclusão - Melhores Hiperparametros: 3 vizinhos mais proximos para KNN e reducao de 4 dim para PCA"
      ]
    },
    {
      "cell_type": "markdown",
      "metadata": {
        "id": "aC3YAUwxO_Aw"
      },
      "source": [
        "**ACURÁCIA DO MODELO**"
      ]
    },
    {
      "cell_type": "code",
      "metadata": {
        "colab": {
          "base_uri": "https://localhost:8080/"
        },
        "id": "V7qB_h_JXiSU",
        "outputId": "40f26f68-b0ce-446e-e404-4d376da2684c"
      },
      "source": [
        "## Acuracia no conjunto de validacao do melhor modelo com conjunto de hyperparametros dentro do grid\n",
        "print(grid.best_score)"
      ],
      "execution_count": 10,
      "outputs": [
        {
          "output_type": "stream",
          "name": "stdout",
          "text": [
            "0.967741935483871\n"
          ]
        }
      ]
    },
    {
      "cell_type": "markdown",
      "metadata": {
        "id": "bNMWUzn6O4K_"
      },
      "source": [
        "**AVALIAÇÃO UNDERFITTING**"
      ]
    },
    {
      "cell_type": "markdown",
      "metadata": {
        "id": "3W7FR8w-mcwD"
      },
      "source": [
        "O objeto grid = GridSearch ja avalia a acuracia do modelo com dados nao visto anteriormente do conjunto de dados de validacao. Pelo score do conjunto de validacao pode-se concluir que nao há underfitting uma vez que o erro é muito baixo na base de testes / validacao."
      ]
    },
    {
      "cell_type": "code",
      "metadata": {
        "id": "x7Jp_7SFYcMV"
      },
      "source": [
        "#Melhor classificador selecionado a partir da melhor acuracia sobre os dados de validacao\n",
        "clf = grid.best_estimator_"
      ],
      "execution_count": 11,
      "outputs": []
    },
    {
      "cell_type": "code",
      "metadata": {
        "colab": {
          "base_uri": "https://localhost:8080/"
        },
        "id": "vtrMmHInYdXt",
        "outputId": "a7a90b69-d5a9-4662-fd8a-64e6f37d626e"
      },
      "source": [
        "### Acuracia no conjunto de testes\n",
        "\n",
        "from sklearn.metrics import accuracy_score\n",
        "\n",
        "y_test_pred = clf.predict(X_test)\n",
        "acc_test = accuracy_score(y_test, y_test_pred)\n",
        "\n",
        "print(acc_test)\n"
      ],
      "execution_count": 12,
      "outputs": [
        {
          "output_type": "stream",
          "name": "stdout",
          "text": [
            "0.9259259259259259\n"
          ]
        }
      ]
    },
    {
      "cell_type": "markdown",
      "metadata": {
        "id": "HYDUbsnDQbwe"
      },
      "source": [
        "**AVALIAÇÃO OVERFITTING**"
      ]
    },
    {
      "cell_type": "markdown",
      "metadata": {
        "id": "LPSVHn9gm79u"
      },
      "source": [
        "Avaliando a alta acuracia apontada pelo modelo ao aplica-lo no conjunto de dados de teste e possivel concluir que nao ha overfitting uma vez que o erro de predicao é muito baixo (acuracia alta)."
      ]
    },
    {
      "cell_type": "code",
      "metadata": {
        "colab": {
          "base_uri": "https://localhost:8080/"
        },
        "id": "8mjbpx9uYfTt",
        "outputId": "2a7e6f44-ff16-48a1-a0dd-aafc5ab8a02e"
      },
      "source": [
        "## Retreinamento com os dados de treinamento e validacao - Geralmente aumenta a acuracia no conjunto de testes\n",
        "clf.fit(X_train_valid, y_train_valid)"
      ],
      "execution_count": 13,
      "outputs": [
        {
          "output_type": "execute_result",
          "data": {
            "text/plain": [
              "Pipeline(steps=[('z-score', StandardScaler()),\n",
              "                ('reduce_dim', PCA(n_components=4)),\n",
              "                ('classify', KNeighborsClassifier(n_neighbors=3))])"
            ]
          },
          "metadata": {},
          "execution_count": 13
        }
      ]
    },
    {
      "cell_type": "code",
      "metadata": {
        "colab": {
          "base_uri": "https://localhost:8080/"
        },
        "id": "hCzAjqQ_XzH5",
        "outputId": "a28d823f-acf4-4cd7-e226-648d8fcb0267"
      },
      "source": [
        "## Recalculando acuracia no conjunto de testes e validação\n",
        "y_test_pred = clf.predict(X_test)\n",
        "acc_test = accuracy_score(y_test, y_test_pred)\n",
        "\n",
        "print(acc_test)"
      ],
      "execution_count": 14,
      "outputs": [
        {
          "output_type": "stream",
          "name": "stdout",
          "text": [
            "0.9259259259259259\n"
          ]
        }
      ]
    },
    {
      "cell_type": "code",
      "metadata": {
        "id": "sWQN1J_jnVs1"
      },
      "source": [
        "Apos a selecao do modelo e o retreinamento com os dados de treinamento e validacao a acuracia final do modelo é de 92.59% na base de teste."
      ],
      "execution_count": null,
      "outputs": []
    },
    {
      "cell_type": "markdown",
      "metadata": {
        "id": "rcD6FHxaRCs3"
      },
      "source": [
        "**VERIFICANDO O INTERVALO DE CONFIANÇA**"
      ]
    },
    {
      "cell_type": "code",
      "metadata": {
        "colab": {
          "base_uri": "https://localhost:8080/"
        },
        "id": "q4Jc7IOGcu8M",
        "outputId": "f1f66d5b-459f-4f1e-d250-b63b6c84ee45"
      },
      "source": [
        "##Intervalo de Confianca\n",
        "\n",
        "ci_test = 1.96 * np.sqrt((acc_test*(1-acc_test)) / y_test.shape[0])\n",
        "\n",
        "test_lower = acc_test-ci_test\n",
        "test_upper = acc_test+ci_test\n",
        "\n",
        "print(test_lower, test_upper)"
      ],
      "execution_count": 15,
      "outputs": [
        {
          "output_type": "stream",
          "name": "stdout",
          "text": [
            "0.8560736711350823 0.9957781807167696\n"
          ]
        }
      ]
    },
    {
      "cell_type": "markdown",
      "metadata": {
        "id": "GrXLR5ehdCMM"
      },
      "source": [
        "Interpretação:\n",
        "\n",
        "em 95% das vezes que o treinamento for refeito com outros conjunto de dados a acuracia vai ficar entre 85.6 e 99.6%"
      ]
    }
  ]
}